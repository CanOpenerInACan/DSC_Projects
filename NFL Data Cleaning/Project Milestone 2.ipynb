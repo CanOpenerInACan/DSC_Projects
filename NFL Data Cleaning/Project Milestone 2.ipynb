{
 "cells": [
  {
   "cell_type": "code",
   "execution_count": 1,
   "metadata": {},
   "outputs": [],
   "source": [
    "import pandas as pd"
   ]
  },
  {
   "cell_type": "code",
   "execution_count": 27,
   "metadata": {},
   "outputs": [],
   "source": [
    "#Getting our game logs. I want to work with these over career stats since lots of things can happen over a career\n",
    "#Whereas less can happen over the course of a season and things change from there.\n",
    "\n",
    "wr = pd.read_csv('Game_Logs_Wide_Receiver_and_Tight_End.csv')\n",
    "rb = pd.read_csv('Game_Logs_Runningback.csv')"
   ]
  },
  {
   "cell_type": "code",
   "execution_count": 28,
   "metadata": {},
   "outputs": [
    {
     "data": {
      "text/html": [
       "<div>\n",
       "<style scoped>\n",
       "    .dataframe tbody tr th:only-of-type {\n",
       "        vertical-align: middle;\n",
       "    }\n",
       "\n",
       "    .dataframe tbody tr th {\n",
       "        vertical-align: top;\n",
       "    }\n",
       "\n",
       "    .dataframe thead th {\n",
       "        text-align: right;\n",
       "    }\n",
       "</style>\n",
       "<table border=\"1\" class=\"dataframe\">\n",
       "  <thead>\n",
       "    <tr style=\"text-align: right;\">\n",
       "      <th></th>\n",
       "      <th>Player Id</th>\n",
       "      <th>Name</th>\n",
       "      <th>Position</th>\n",
       "      <th>Year</th>\n",
       "      <th>Season</th>\n",
       "      <th>Week</th>\n",
       "      <th>Game Date</th>\n",
       "      <th>Home or Away</th>\n",
       "      <th>Opponent</th>\n",
       "      <th>Outcome</th>\n",
       "      <th>...</th>\n",
       "      <th>Yards Per Reception</th>\n",
       "      <th>Longest Reception</th>\n",
       "      <th>Receiving TDs</th>\n",
       "      <th>Rushing Attempts</th>\n",
       "      <th>Rushing Yards</th>\n",
       "      <th>Yards Per Carry</th>\n",
       "      <th>Longest Rushing Run</th>\n",
       "      <th>Rushing TDs</th>\n",
       "      <th>Fumbles</th>\n",
       "      <th>Fumbles Lost</th>\n",
       "    </tr>\n",
       "  </thead>\n",
       "  <tbody>\n",
       "    <tr>\n",
       "      <th>0</th>\n",
       "      <td>floydraglin/2523695</td>\n",
       "      <td>Raglin, Floyd</td>\n",
       "      <td>NaN</td>\n",
       "      <td>1987</td>\n",
       "      <td>Regular Season</td>\n",
       "      <td>3</td>\n",
       "      <td>10/04</td>\n",
       "      <td>Away</td>\n",
       "      <td>SEA</td>\n",
       "      <td>L</td>\n",
       "      <td>...</td>\n",
       "      <td>--</td>\n",
       "      <td>--</td>\n",
       "      <td>--</td>\n",
       "      <td>--</td>\n",
       "      <td>--</td>\n",
       "      <td>--</td>\n",
       "      <td>--</td>\n",
       "      <td>--</td>\n",
       "      <td>--</td>\n",
       "      <td>--</td>\n",
       "    </tr>\n",
       "    <tr>\n",
       "      <th>1</th>\n",
       "      <td>floydraglin/2523695</td>\n",
       "      <td>Raglin, Floyd</td>\n",
       "      <td>NaN</td>\n",
       "      <td>1987</td>\n",
       "      <td>Regular Season</td>\n",
       "      <td>4</td>\n",
       "      <td>10/11</td>\n",
       "      <td>Home</td>\n",
       "      <td>KC</td>\n",
       "      <td>W</td>\n",
       "      <td>...</td>\n",
       "      <td>--</td>\n",
       "      <td>--</td>\n",
       "      <td>--</td>\n",
       "      <td>--</td>\n",
       "      <td>--</td>\n",
       "      <td>--</td>\n",
       "      <td>--</td>\n",
       "      <td>--</td>\n",
       "      <td>--</td>\n",
       "      <td>--</td>\n",
       "    </tr>\n",
       "    <tr>\n",
       "      <th>2</th>\n",
       "      <td>joeadams/2532782</td>\n",
       "      <td>Adams, Joe</td>\n",
       "      <td>NaN</td>\n",
       "      <td>2014</td>\n",
       "      <td>Preseason</td>\n",
       "      <td>1</td>\n",
       "      <td>08/09</td>\n",
       "      <td>Away</td>\n",
       "      <td>ARI</td>\n",
       "      <td>L</td>\n",
       "      <td>...</td>\n",
       "      <td>--</td>\n",
       "      <td>--</td>\n",
       "      <td>--</td>\n",
       "      <td>--</td>\n",
       "      <td>--</td>\n",
       "      <td>--</td>\n",
       "      <td>--</td>\n",
       "      <td>--</td>\n",
       "      <td>1</td>\n",
       "      <td>0</td>\n",
       "    </tr>\n",
       "    <tr>\n",
       "      <th>3</th>\n",
       "      <td>joeadams/2532782</td>\n",
       "      <td>Adams, Joe</td>\n",
       "      <td>NaN</td>\n",
       "      <td>2014</td>\n",
       "      <td>Preseason</td>\n",
       "      <td>2</td>\n",
       "      <td>08/16</td>\n",
       "      <td>Home</td>\n",
       "      <td>ATL</td>\n",
       "      <td>W</td>\n",
       "      <td>...</td>\n",
       "      <td>--</td>\n",
       "      <td>--</td>\n",
       "      <td>0</td>\n",
       "      <td>--</td>\n",
       "      <td>--</td>\n",
       "      <td>--</td>\n",
       "      <td>--</td>\n",
       "      <td>--</td>\n",
       "      <td>--</td>\n",
       "      <td>--</td>\n",
       "    </tr>\n",
       "    <tr>\n",
       "      <th>4</th>\n",
       "      <td>joeadams/2532782</td>\n",
       "      <td>Adams, Joe</td>\n",
       "      <td>NaN</td>\n",
       "      <td>2014</td>\n",
       "      <td>Preseason</td>\n",
       "      <td>3</td>\n",
       "      <td>08/23</td>\n",
       "      <td>Away</td>\n",
       "      <td>DEN</td>\n",
       "      <td>W</td>\n",
       "      <td>...</td>\n",
       "      <td>--</td>\n",
       "      <td>--</td>\n",
       "      <td>--</td>\n",
       "      <td>--</td>\n",
       "      <td>--</td>\n",
       "      <td>--</td>\n",
       "      <td>--</td>\n",
       "      <td>--</td>\n",
       "      <td>--</td>\n",
       "      <td>--</td>\n",
       "    </tr>\n",
       "  </tbody>\n",
       "</table>\n",
       "<p>5 rows × 25 columns</p>\n",
       "</div>"
      ],
      "text/plain": [
       "             Player Id           Name Position  Year          Season  Week  \\\n",
       "0  floydraglin/2523695  Raglin, Floyd      NaN  1987  Regular Season     3   \n",
       "1  floydraglin/2523695  Raglin, Floyd      NaN  1987  Regular Season     4   \n",
       "2     joeadams/2532782     Adams, Joe      NaN  2014       Preseason     1   \n",
       "3     joeadams/2532782     Adams, Joe      NaN  2014       Preseason     2   \n",
       "4     joeadams/2532782     Adams, Joe      NaN  2014       Preseason     3   \n",
       "\n",
       "  Game Date Home or Away Opponent Outcome  ... Yards Per Reception  \\\n",
       "0     10/04         Away      SEA       L  ...                  --   \n",
       "1     10/11         Home       KC       W  ...                  --   \n",
       "2     08/09         Away      ARI       L  ...                  --   \n",
       "3     08/16         Home      ATL       W  ...                  --   \n",
       "4     08/23         Away      DEN       W  ...                  --   \n",
       "\n",
       "   Longest Reception Receiving TDs Rushing Attempts Rushing Yards  \\\n",
       "0                 --            --               --            --   \n",
       "1                 --            --               --            --   \n",
       "2                 --            --               --            --   \n",
       "3                 --             0               --            --   \n",
       "4                 --            --               --            --   \n",
       "\n",
       "  Yards Per Carry Longest Rushing Run Rushing TDs Fumbles Fumbles Lost  \n",
       "0              --                  --          --      --           --  \n",
       "1              --                  --          --      --           --  \n",
       "2              --                  --          --       1            0  \n",
       "3              --                  --          --      --           --  \n",
       "4              --                  --          --      --           --  \n",
       "\n",
       "[5 rows x 25 columns]"
      ]
     },
     "execution_count": 28,
     "metadata": {},
     "output_type": "execute_result"
    }
   ],
   "source": [
    "#We will keep the receivers (WR and TE) separated from running backs, unless we need to combine. Haven't fully\n",
    "#decided which will be better. Luckily we can check how well they would combine\n",
    "\n",
    "wr.head()"
   ]
  },
  {
   "cell_type": "code",
   "execution_count": 29,
   "metadata": {},
   "outputs": [
    {
     "data": {
      "text/plain": [
       "(112632, 25)"
      ]
     },
     "execution_count": 29,
     "metadata": {},
     "output_type": "execute_result"
    }
   ],
   "source": [
    "#Let's check the shape of our receiving DF\n",
    "wr.shape"
   ]
  },
  {
   "cell_type": "code",
   "execution_count": 30,
   "metadata": {},
   "outputs": [
    {
     "data": {
      "text/html": [
       "<div>\n",
       "<style scoped>\n",
       "    .dataframe tbody tr th:only-of-type {\n",
       "        vertical-align: middle;\n",
       "    }\n",
       "\n",
       "    .dataframe tbody tr th {\n",
       "        vertical-align: top;\n",
       "    }\n",
       "\n",
       "    .dataframe thead th {\n",
       "        text-align: right;\n",
       "    }\n",
       "</style>\n",
       "<table border=\"1\" class=\"dataframe\">\n",
       "  <thead>\n",
       "    <tr style=\"text-align: right;\">\n",
       "      <th></th>\n",
       "      <th>Player Id</th>\n",
       "      <th>Name</th>\n",
       "      <th>Position</th>\n",
       "      <th>Year</th>\n",
       "      <th>Season</th>\n",
       "      <th>Week</th>\n",
       "      <th>Game Date</th>\n",
       "      <th>Home or Away</th>\n",
       "      <th>Opponent</th>\n",
       "      <th>Outcome</th>\n",
       "      <th>...</th>\n",
       "      <th>Yards Per Carry</th>\n",
       "      <th>Longest Rushing Run</th>\n",
       "      <th>Rushing TDs</th>\n",
       "      <th>Receptions</th>\n",
       "      <th>Receiving Yards</th>\n",
       "      <th>Yards Per Reception</th>\n",
       "      <th>Longest Reception</th>\n",
       "      <th>Receiving TDs</th>\n",
       "      <th>Fumbles</th>\n",
       "      <th>Fumbles Lost</th>\n",
       "    </tr>\n",
       "  </thead>\n",
       "  <tbody>\n",
       "    <tr>\n",
       "      <th>0</th>\n",
       "      <td>bobbyfowler/2514295</td>\n",
       "      <td>Fowler, Bobby</td>\n",
       "      <td>NaN</td>\n",
       "      <td>1985</td>\n",
       "      <td>Regular Season</td>\n",
       "      <td>7</td>\n",
       "      <td>10/20</td>\n",
       "      <td>Away</td>\n",
       "      <td>ATL</td>\n",
       "      <td>L</td>\n",
       "      <td>...</td>\n",
       "      <td>--</td>\n",
       "      <td>--</td>\n",
       "      <td>--</td>\n",
       "      <td>--</td>\n",
       "      <td>--</td>\n",
       "      <td>--</td>\n",
       "      <td>--</td>\n",
       "      <td>--</td>\n",
       "      <td>--</td>\n",
       "      <td>--</td>\n",
       "    </tr>\n",
       "    <tr>\n",
       "      <th>1</th>\n",
       "      <td>bobbyfowler/2514295</td>\n",
       "      <td>Fowler, Bobby</td>\n",
       "      <td>NaN</td>\n",
       "      <td>1985</td>\n",
       "      <td>Regular Season</td>\n",
       "      <td>8</td>\n",
       "      <td>10/27</td>\n",
       "      <td>Home</td>\n",
       "      <td>NYG</td>\n",
       "      <td>L</td>\n",
       "      <td>...</td>\n",
       "      <td>--</td>\n",
       "      <td>--</td>\n",
       "      <td>--</td>\n",
       "      <td>--</td>\n",
       "      <td>--</td>\n",
       "      <td>--</td>\n",
       "      <td>--</td>\n",
       "      <td>--</td>\n",
       "      <td>--</td>\n",
       "      <td>--</td>\n",
       "    </tr>\n",
       "    <tr>\n",
       "      <th>2</th>\n",
       "      <td>bobbyfowler/2514295</td>\n",
       "      <td>Fowler, Bobby</td>\n",
       "      <td>NaN</td>\n",
       "      <td>1985</td>\n",
       "      <td>Regular Season</td>\n",
       "      <td>9</td>\n",
       "      <td>11/03</td>\n",
       "      <td>Away</td>\n",
       "      <td>RAM</td>\n",
       "      <td>L</td>\n",
       "      <td>...</td>\n",
       "      <td>--</td>\n",
       "      <td>--</td>\n",
       "      <td>--</td>\n",
       "      <td>3</td>\n",
       "      <td>27</td>\n",
       "      <td>9.0</td>\n",
       "      <td>10</td>\n",
       "      <td>0</td>\n",
       "      <td>--</td>\n",
       "      <td>--</td>\n",
       "    </tr>\n",
       "    <tr>\n",
       "      <th>3</th>\n",
       "      <td>bobbyfowler/2514295</td>\n",
       "      <td>Fowler, Bobby</td>\n",
       "      <td>NaN</td>\n",
       "      <td>1985</td>\n",
       "      <td>Regular Season</td>\n",
       "      <td>10</td>\n",
       "      <td>11/10</td>\n",
       "      <td>Home</td>\n",
       "      <td>SEA</td>\n",
       "      <td>L</td>\n",
       "      <td>...</td>\n",
       "      <td>--</td>\n",
       "      <td>--</td>\n",
       "      <td>--</td>\n",
       "      <td>--</td>\n",
       "      <td>--</td>\n",
       "      <td>--</td>\n",
       "      <td>--</td>\n",
       "      <td>--</td>\n",
       "      <td>--</td>\n",
       "      <td>--</td>\n",
       "    </tr>\n",
       "    <tr>\n",
       "      <th>4</th>\n",
       "      <td>bobbyfowler/2514295</td>\n",
       "      <td>Fowler, Bobby</td>\n",
       "      <td>NaN</td>\n",
       "      <td>1985</td>\n",
       "      <td>Regular Season</td>\n",
       "      <td>11</td>\n",
       "      <td>11/17</td>\n",
       "      <td>Away</td>\n",
       "      <td>GB</td>\n",
       "      <td>L</td>\n",
       "      <td>...</td>\n",
       "      <td>1.0</td>\n",
       "      <td>1</td>\n",
       "      <td>0</td>\n",
       "      <td>--</td>\n",
       "      <td>--</td>\n",
       "      <td>--</td>\n",
       "      <td>--</td>\n",
       "      <td>--</td>\n",
       "      <td>--</td>\n",
       "      <td>--</td>\n",
       "    </tr>\n",
       "  </tbody>\n",
       "</table>\n",
       "<p>5 rows × 25 columns</p>\n",
       "</div>"
      ],
      "text/plain": [
       "             Player Id           Name Position  Year          Season  Week  \\\n",
       "0  bobbyfowler/2514295  Fowler, Bobby      NaN  1985  Regular Season     7   \n",
       "1  bobbyfowler/2514295  Fowler, Bobby      NaN  1985  Regular Season     8   \n",
       "2  bobbyfowler/2514295  Fowler, Bobby      NaN  1985  Regular Season     9   \n",
       "3  bobbyfowler/2514295  Fowler, Bobby      NaN  1985  Regular Season    10   \n",
       "4  bobbyfowler/2514295  Fowler, Bobby      NaN  1985  Regular Season    11   \n",
       "\n",
       "  Game Date Home or Away Opponent Outcome  ... Yards Per Carry  \\\n",
       "0     10/20         Away      ATL       L  ...              --   \n",
       "1     10/27         Home      NYG       L  ...              --   \n",
       "2     11/03         Away      RAM       L  ...              --   \n",
       "3     11/10         Home      SEA       L  ...              --   \n",
       "4     11/17         Away       GB       L  ...             1.0   \n",
       "\n",
       "   Longest Rushing Run Rushing TDs Receptions Receiving Yards  \\\n",
       "0                   --          --         --              --   \n",
       "1                   --          --         --              --   \n",
       "2                   --          --          3              27   \n",
       "3                   --          --         --              --   \n",
       "4                    1           0         --              --   \n",
       "\n",
       "  Yards Per Reception Longest Reception Receiving TDs Fumbles Fumbles Lost  \n",
       "0                  --                --            --      --           --  \n",
       "1                  --                --            --      --           --  \n",
       "2                 9.0                10             0      --           --  \n",
       "3                  --                --            --      --           --  \n",
       "4                  --                --            --      --           --  \n",
       "\n",
       "[5 rows x 25 columns]"
      ]
     },
     "execution_count": 30,
     "metadata": {},
     "output_type": "execute_result"
    }
   ],
   "source": [
    "#Let's check out the rushing DF\n",
    "rb.head()"
   ]
  },
  {
   "cell_type": "code",
   "execution_count": 31,
   "metadata": {},
   "outputs": [
    {
     "data": {
      "text/plain": [
       "(67661, 25)"
      ]
     },
     "execution_count": 31,
     "metadata": {},
     "output_type": "execute_result"
    }
   ],
   "source": [
    "#And it's shape\n",
    "rb.shape"
   ]
  },
  {
   "cell_type": "code",
   "execution_count": 32,
   "metadata": {},
   "outputs": [
    {
     "name": "stdout",
     "output_type": "stream",
     "text": [
      "There are 25 columns in the WR/TE dataframe\n",
      "There are 25 columns in the RB/FB dataframe\n",
      "The amount of columns that these dataframes have in common is 25\n"
     ]
    }
   ],
   "source": [
    "#Lets see if we can combine the Dataframes if needed\n",
    "print('There are ' + str(len(wr.columns)) + ' columns in the WR/TE dataframe')\n",
    "print('There are ' + str(len(rb.columns)) + ' columns in the RB/FB dataframe')\n",
    "print('The amount of columns that these dataframes have in common is ' + str(len(rb.columns | wr.columns)))"
   ]
  },
  {
   "cell_type": "code",
   "execution_count": 33,
   "metadata": {},
   "outputs": [
    {
     "data": {
      "text/plain": [
       "Regular Season    94790\n",
       "Preseason         13304\n",
       "Postseason         4115\n",
       "Pro Bowl            423\n",
       "Name: Season, dtype: int64"
      ]
     },
     "execution_count": 33,
     "metadata": {},
     "output_type": "execute_result"
    }
   ],
   "source": [
    "#Now lets get rid of some unneeded things. We don't care about Preseason or the Pro Bowl. So lets remove them\n",
    "#We should be removing 13727 rows from the dataframe here\n",
    "wr.Season.value_counts()"
   ]
  },
  {
   "cell_type": "code",
   "execution_count": 34,
   "metadata": {},
   "outputs": [],
   "source": [
    "#Removing the two sets of games we don't care about\n",
    "wr = wr[wr.Season != 'Preseason']\n",
    "wr = wr[wr.Season != 'Pro Bowl']"
   ]
  },
  {
   "cell_type": "code",
   "execution_count": 35,
   "metadata": {},
   "outputs": [
    {
     "data": {
      "text/plain": [
       "(98905, 25)"
      ]
     },
     "execution_count": 35,
     "metadata": {},
     "output_type": "execute_result"
    }
   ],
   "source": [
    "#Checking the shape. Should be 112632-13727. So 98905\n",
    "wr.shape"
   ]
  },
  {
   "cell_type": "code",
   "execution_count": 36,
   "metadata": {},
   "outputs": [
    {
     "data": {
      "text/plain": [
       "array(['Regular Season', 'Postseason'], dtype=object)"
      ]
     },
     "execution_count": 36,
     "metadata": {},
     "output_type": "execute_result"
    }
   ],
   "source": [
    "#Triple checking\n",
    "wr.Season.unique()"
   ]
  },
  {
   "cell_type": "code",
   "execution_count": 37,
   "metadata": {},
   "outputs": [],
   "source": [
    "#Do the same for the rushing DF\n",
    "rb = rb[rb.Season != 'Preseason']\n",
    "rb = rb[rb.Season != 'Pro Bowl']"
   ]
  },
  {
   "cell_type": "code",
   "execution_count": 38,
   "metadata": {},
   "outputs": [
    {
     "data": {
      "text/plain": [
       "(60864, 25)"
      ]
     },
     "execution_count": 38,
     "metadata": {},
     "output_type": "execute_result"
    }
   ],
   "source": [
    "#Removed about 7000 rows\n",
    "rb.shape"
   ]
  },
  {
   "cell_type": "markdown",
   "metadata": {},
   "source": [
    "**Quick Breakdown:** So far I have gotten to look through some of the data, and realize there is a lot still to do. I will give a quick breakdown of what I have done so far, as well as everything else I need to do before I can work with a lot of this. So far I have made two dataframes, one for receivers (both wide receivers and tight ends) and one for running backs (also includes full backs). I checked to make sure I could combine them into one if I really wanted, and I can, but for now they will stay separated so we can look at them separate. I got rid of nearly 20,000 rows that we weren't interested in because they were pre-season or pro bowl games and we don't want those. As for things I still need to do... Its a lot. I didn't want to delete any columns because even though there were some that weren't in my original thinking, home vs away would be interesting to look into, and so I havent messed with that yet. I want to condense the Player ID and Name into one column, figure out how to remove people who did not accumulate stats, but this may not work well. If a player played a game but has no catches or stats we have here, it will all show as '--', but that should still count against them. But if they didn't play, it will show the same. I think. So I'm struggling to figure out how to work with this. Removing dud games will inflate stats, removing rows based off the 'Games Started' category on if a player started a game will remove a bunch of stats, so I need to figure out what I am doing. I also need to find a place that has the last 3 years worth of stats that I can find here to add them. Basically I need to mess with and clean the data a lot more and get familiar with the data I have. Remove some stuff we don't care about or can easily find (we don't really need yards, receptions AND yard/reception. We can calculate yards/reception if needed). Luckily the earliest year recorded is 1970, but we may still cut down the amount of data we have by removing anything pre 2000, just to cut the data and get a more accurate current day view of the game. I have a lot of work to do, and cleaning will be a pain, but once it is all done, should be able to fit a decent model and learn some thing. We also have a few categories that need to be converted to numerical data types so we can run analysis, but have some \"NaNs\" and \"--\"s that stop that right now. Oh man and as I type this, I realize there is a 'Games Played' category, which tells us if the player played. If we have 'Games Played' == 0 we can remove them. They all have '--' for all their stats and did not play. Ok good. I'll include that bit of exploring code below and we can remove them after. Sorry I did a lot of messing around as I typed this trying to figure out how to do the things I needed. But these should help. Hopefully this is enough transformations for the week even though I didn't do a ton of transforming and was more getting into the details of the DataFrames. But there will be a lot more next week hopefully. "
   ]
  },
  {
   "cell_type": "code",
   "execution_count": 41,
   "metadata": {},
   "outputs": [],
   "source": [
    "rb = rb[rb['Games Played']==1]\n",
    "wr = wr[wr['Games Played']==1]"
   ]
  },
  {
   "cell_type": "code",
   "execution_count": 40,
   "metadata": {},
   "outputs": [
    {
     "data": {
      "text/plain": [
       "1    54110\n",
       "Name: Games Played, dtype: int64"
      ]
     },
     "execution_count": 40,
     "metadata": {},
     "output_type": "execute_result"
    }
   ],
   "source": [
    "rb['Games Played'].value_counts()"
   ]
  },
  {
   "cell_type": "code",
   "execution_count": 43,
   "metadata": {},
   "outputs": [
    {
     "data": {
      "text/plain": [
       "Player Id                  0\n",
       "Name                       0\n",
       "Position               46295\n",
       "Year                       0\n",
       "Season                     0\n",
       "Week                       0\n",
       "Game Date                  0\n",
       "Home or Away               0\n",
       "Opponent                   0\n",
       "Outcome                    0\n",
       "Score                      0\n",
       "Games Played               0\n",
       "Games Started              0\n",
       "Rushing Attempts           0\n",
       "Rushing Yards              0\n",
       "Yards Per Carry            0\n",
       "Longest Rushing Run        0\n",
       "Rushing TDs                0\n",
       "Receptions                 0\n",
       "Receiving Yards            0\n",
       "Yards Per Reception        0\n",
       "Longest Reception          0\n",
       "Receiving TDs              0\n",
       "Fumbles                    0\n",
       "Fumbles Lost               0\n",
       "dtype: int64"
      ]
     },
     "execution_count": 43,
     "metadata": {},
     "output_type": "execute_result"
    }
   ],
   "source": [
    "rb.isnull().sum()"
   ]
  },
  {
   "cell_type": "code",
   "execution_count": 44,
   "metadata": {},
   "outputs": [
    {
     "data": {
      "text/plain": [
       "Player Id                  0\n",
       "Name                       0\n",
       "Position               70761\n",
       "Year                       0\n",
       "Season                     0\n",
       "Week                       0\n",
       "Game Date                  0\n",
       "Home or Away               0\n",
       "Opponent                   0\n",
       "Outcome                    0\n",
       "Score                      0\n",
       "Games Played               0\n",
       "Games Started              0\n",
       "Receptions                 0\n",
       "Receiving Yards            0\n",
       "Yards Per Reception        0\n",
       "Longest Reception          0\n",
       "Receiving TDs              0\n",
       "Rushing Attempts           0\n",
       "Rushing Yards              0\n",
       "Yards Per Carry            0\n",
       "Longest Rushing Run        0\n",
       "Rushing TDs                0\n",
       "Fumbles                    0\n",
       "Fumbles Lost               0\n",
       "dtype: int64"
      ]
     },
     "execution_count": 44,
     "metadata": {},
     "output_type": "execute_result"
    }
   ],
   "source": [
    "wr.isnull().sum()"
   ]
  },
  {
   "cell_type": "code",
   "execution_count": null,
   "metadata": {},
   "outputs": [],
   "source": []
  }
 ],
 "metadata": {
  "kernelspec": {
   "display_name": "Python 3",
   "language": "python",
   "name": "python3"
  },
  "language_info": {
   "codemirror_mode": {
    "name": "ipython",
    "version": 3
   },
   "file_extension": ".py",
   "mimetype": "text/x-python",
   "name": "python",
   "nbconvert_exporter": "python",
   "pygments_lexer": "ipython3",
   "version": "3.8.3"
  }
 },
 "nbformat": 4,
 "nbformat_minor": 4
}
